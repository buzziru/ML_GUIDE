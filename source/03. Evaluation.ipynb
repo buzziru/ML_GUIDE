{
 "cells": [
  {
   "cell_type": "code",
   "execution_count": 1,
   "metadata": {},
   "outputs": [],
   "source": [
    "import numpy as np\n",
    "from sklearn.base import BaseEstimator\n",
    "\n",
    "class MyDummyClassifier(BaseEstimator):\n",
    "    # fit 메소드는 아무것도 학습하지 않음\n",
    "    def fit(self, X, y=None):\n",
    "        pass\n",
    "    \n",
    "    # predict 메소드는 성별만 고려하여 생존여부를 예측함\n",
    "    def predict(self, X):\n",
    "        pred = np.zeros((X.shape[0], 1))\n",
    "        for i in range(X.shape[0]):\n",
    "            if X['Sex'].iloc[i] == 1:\n",
    "                pred[i] = 0\n",
    "            else:\n",
    "                pred[i] = 1\n",
    "        return pred\n",
    "    "
   ]
  },
  {
   "cell_type": "code",
   "execution_count": 4,
   "metadata": {},
   "outputs": [
    {
     "data": {
      "text/plain": [
       "0.7877"
      ]
     },
     "execution_count": 4,
     "metadata": {},
     "output_type": "execute_result"
    }
   ],
   "source": [
    "import pandas as pd\n",
    "from sklearn.model_selection import train_test_split\n",
    "from sklearn.metrics import accuracy_score\n",
    "from handling_titanic import transform_features\n",
    "\n",
    "titanic_df = pd.read_csv('../data/titanic/train.csv')\n",
    "X = titanic_df.drop('Survived', axis=1)\n",
    "y = titanic_df['Survived']\n",
    "\n",
    "X = transform_features(X)\n",
    "\n",
    "X_train, X_test, y_train, y_test = train_test_split(X, y, test_size=0.2, random_state=0)\n",
    "\n",
    "myclf = MyDummyClassifier()\n",
    "myclf.fit(X_train, y_train)\n",
    "\n",
    "pred_my = myclf.predict(X_test)\n",
    "round(accuracy_score(y_test, pred_my), 4)"
   ]
  },
  {
   "cell_type": "markdown",
   "metadata": {},
   "source": [
    "- 성별만을 고려한 분류기가 78.77% 정확도를 보임"
   ]
  },
  {
   "cell_type": "code",
   "execution_count": 5,
   "metadata": {},
   "outputs": [],
   "source": [
    "from sklearn.datasets import load_digits\n",
    "\n",
    "# create dummy classifier\n",
    "class MyFakeClassifier(BaseEstimator):\n",
    "\n",
    "    def fit(self, X, y=None):\n",
    "        pass\n",
    "\n",
    "    def predict(self, X):\n",
    "        return np.zeros((X.shape[0], 1), dtype=bool)\n",
    "    \n",
    "digits = load_digits()\n",
    "\n",
    "y = (digits['target'] == 7).astype(int)\n",
    "X = digits['data']\n",
    "\n",
    "X_train, X_test, y_train, y_test = train_test_split(X, y, random_state=11)"
   ]
  },
  {
   "cell_type": "code",
   "execution_count": 6,
   "metadata": {},
   "outputs": [
    {
     "data": {
      "text/plain": [
       "0.9"
      ]
     },
     "execution_count": 6,
     "metadata": {},
     "output_type": "execute_result"
    }
   ],
   "source": [
    "fake_clf = MyFakeClassifier()\n",
    "fake_clf.fit(X_train, y_train)\n",
    "\n",
    "pred_fake = fake_clf.predict(X_test)\n",
    "\n",
    "accuracy_score(y_test, pred_fake)"
   ]
  },
  {
   "cell_type": "markdown",
   "metadata": {},
   "source": [
    "- MNIST 데이터를 7인가 아닌가를 분류하는 이진문제로 만들어서 예측결과를 모두 0으로 하는 분류기가 90% 정확도를 보임"
   ]
  },
  {
   "cell_type": "markdown",
   "metadata": {},
   "source": [
    "- 정확도를 평가 지표로 활용하는 것이 성능을 정확히 반영하지 못할 가능성을 고려해야 함"
   ]
  },
  {
   "cell_type": "code",
   "execution_count": 7,
   "metadata": {},
   "outputs": [
    {
     "data": {
      "text/plain": [
       "array([[405,   0],\n",
       "       [ 45,   0]], dtype=int64)"
      ]
     },
     "execution_count": 7,
     "metadata": {},
     "output_type": "execute_result"
    }
   ],
   "source": [
    "from sklearn.metrics import confusion_matrix\n",
    "\n",
    "confusion_matrix(y_test, pred_fake)"
   ]
  },
  {
   "cell_type": "markdown",
   "metadata": {},
   "source": [
    "![Confusion Matrix](../confusion%20matrix.png)"
   ]
  },
  {
   "cell_type": "code",
   "execution_count": 10,
   "metadata": {},
   "outputs": [],
   "source": [
    "from sklearn.metrics import precision_score, recall_score\n",
    "\n",
    "def get_clf_eval(y_test, pred):\n",
    "    confusion = confusion_matrix(y_test, pred)\n",
    "    accuray = accuracy_score(y_test, pred)\n",
    "    precision = precision_score(y_test, pred)\n",
    "    recall = recall_score(y_test, pred)\n",
    "    print('Confusion Matrix')\n",
    "    print(confusion)\n",
    "    print('Accuracy : ', round(accuray, 4), 'Precision : ', round(precision, 4), 'Recall : ', round(recall, 4))"
   ]
  },
  {
   "cell_type": "code",
   "execution_count": 20,
   "metadata": {},
   "outputs": [
    {
     "name": "stdout",
     "output_type": "stream",
     "text": [
      "Confusion Matrix\n",
      "[[108  10]\n",
      " [ 14  47]]\n",
      "Accuracy :  0.8659 Precision :  0.8246 Recall :  0.7705\n"
     ]
    }
   ],
   "source": [
    "from sklearn.linear_model import LogisticRegression\n",
    "\n",
    "titanic_df = pd.read_csv('../data/titanic/train.csv')\n",
    "X = titanic_df.drop('Survived', axis=1)\n",
    "y = titanic_df['Survived']\n",
    "\n",
    "X = transform_features(X)\n",
    "\n",
    "X_train, X_test, y_train, y_test = train_test_split(X, y, test_size=0.2, random_state=11)\n",
    "\n",
    "lr_clf = LogisticRegression(max_iter=1000, solver='liblinear')\n",
    "lr_clf.fit(X_train, y_train)\n",
    "pred = lr_clf.predict(X_test)\n",
    "get_clf_eval(y_test, pred)"
   ]
  },
  {
   "cell_type": "markdown",
   "metadata": {},
   "source": [
    "- 정밀도에 비해 재현율이 떨어짐"
   ]
  },
  {
   "cell_type": "code",
   "execution_count": 24,
   "metadata": {},
   "outputs": [
    {
     "name": "stdout",
     "output_type": "stream",
     "text": [
      "Shape of pred_proba :  (179, 2)\n",
      "Sample of pred_prob : \n",
      " [[0.44935228 0.55064772]\n",
      " [0.86335513 0.13664487]\n",
      " [0.86429645 0.13570355]]\n",
      "Result : \n",
      " [[0.44935228 0.55064772 1.        ]\n",
      " [0.86335513 0.13664487 0.        ]\n",
      " [0.86429645 0.13570355 0.        ]]\n"
     ]
    }
   ],
   "source": [
    "pred_proba = lr_clf.predict_proba(X_test)\n",
    "pred = lr_clf.predict(X_test)\n",
    "print('Shape of pred_proba : ', pred_proba.shape)\n",
    "print('Sample of pred_prob : \\n', pred_proba[:3])\n",
    "\n",
    "pred_proba_result = np.concatenate([pred_proba, pred.reshape(-1, 1)], axis=1)\n",
    "print('Result : \\n', pred_proba_result[:3])"
   ]
  },
  {
   "cell_type": "markdown",
   "metadata": {},
   "source": [
    "- threshold 설정"
   ]
  },
  {
   "cell_type": "code",
   "execution_count": 25,
   "metadata": {},
   "outputs": [
    {
     "name": "stdout",
     "output_type": "stream",
     "text": [
      "[[0. 0. 1.]\n",
      " [1. 0. 0.]\n",
      " [0. 0. 1.]]\n"
     ]
    }
   ],
   "source": [
    "from sklearn.preprocessing import Binarizer\n",
    "\n",
    "X = [\n",
    "    [1, -1, 2],\n",
    "    [2, 0, 0],\n",
    "    [0, 1.1, 1.2]\n",
    "    ]\n",
    "\n",
    "binarizer = Binarizer(threshold=1.1)\n",
    "print(binarizer.fit_transform(X))"
   ]
  },
  {
   "cell_type": "code",
   "execution_count": 27,
   "metadata": {},
   "outputs": [],
   "source": [
    "def set_threshold(y_test, pred_proba, threshold):\n",
    "    custom_threshold = threshold\n",
    "    pred_proba_1 = pred_proba[:, 1].reshape(-1, 1)\n",
    "\n",
    "    binarizer = Binarizer(threshold=custom_threshold).fit(pred_proba_1)\n",
    "    custom_predict = binarizer.transform(pred_proba_1)\n",
    "    get_clf_eval(y_test, custom_predict)"
   ]
  },
  {
   "cell_type": "code",
   "execution_count": 29,
   "metadata": {},
   "outputs": [
    {
     "name": "stdout",
     "output_type": "stream",
     "text": [
      "Confusion Matrix\n",
      "[[108  10]\n",
      " [ 14  47]]\n",
      "Accuracy :  0.8659 Precision :  0.8246 Recall :  0.7705\n"
     ]
    }
   ],
   "source": [
    "set_threshold(y_test, pred_proba, 0.5)"
   ]
  },
  {
   "cell_type": "code",
   "execution_count": 30,
   "metadata": {},
   "outputs": [
    {
     "name": "stdout",
     "output_type": "stream",
     "text": [
      "Confusion Matrix\n",
      "[[97 21]\n",
      " [11 50]]\n",
      "Accuracy :  0.8212 Precision :  0.7042 Recall :  0.8197\n"
     ]
    }
   ],
   "source": [
    "set_threshold(y_test, pred_proba, 0.4)"
   ]
  },
  {
   "cell_type": "code",
   "execution_count": 32,
   "metadata": {},
   "outputs": [
    {
     "name": "stdout",
     "output_type": "stream",
     "text": [
      "Custom Threshold :  0.4\n",
      "Confusion Matrix\n",
      "[[97 21]\n",
      " [11 50]]\n",
      "Accuracy :  0.8212 Precision :  0.7042 Recall :  0.8197\n",
      "==================================================\n",
      "Custom Threshold :  0.45\n",
      "Confusion Matrix\n",
      "[[105  13]\n",
      " [ 13  48]]\n",
      "Accuracy :  0.8547 Precision :  0.7869 Recall :  0.7869\n",
      "==================================================\n",
      "Custom Threshold :  0.5\n",
      "Confusion Matrix\n",
      "[[108  10]\n",
      " [ 14  47]]\n",
      "Accuracy :  0.8659 Precision :  0.8246 Recall :  0.7705\n",
      "==================================================\n",
      "Custom Threshold :  0.55\n",
      "Confusion Matrix\n",
      "[[111   7]\n",
      " [ 16  45]]\n",
      "Accuracy :  0.8715 Precision :  0.8654 Recall :  0.7377\n",
      "==================================================\n",
      "Custom Threshold :  0.6\n",
      "Confusion Matrix\n",
      "[[113   5]\n",
      " [ 17  44]]\n",
      "Accuracy :  0.8771 Precision :  0.898 Recall :  0.7213\n",
      "==================================================\n"
     ]
    }
   ],
   "source": [
    "threshold_list = [0.4, 0.45, 0.50, 0.55, 0.60]\n",
    "\n",
    "for custom_threshold in threshold_list:\n",
    "    print('Custom Threshold : ', custom_threshold)\n",
    "    set_threshold(y_test, pred_proba, custom_threshold)\n",
    "    print('='*50)"
   ]
  },
  {
   "cell_type": "markdown",
   "metadata": {},
   "source": [
    "- precision_recall_curve"
   ]
  },
  {
   "cell_type": "code",
   "execution_count": 33,
   "metadata": {},
   "outputs": [
    {
     "name": "stdout",
     "output_type": "stream",
     "text": [
      "Shape of thresholds :  (165,)\n",
      "Value of thresholds :  [0.02 0.11 0.13 0.14 0.16 0.24 0.32 0.45 0.62 0.73 0.87]\n",
      "Precision :  [0.341 0.372 0.401 0.44  0.505 0.598 0.688 0.774 0.915 0.968 0.938]\n",
      "Recall :  [1.    1.    0.967 0.902 0.902 0.902 0.869 0.787 0.705 0.492 0.246]\n"
     ]
    }
   ],
   "source": [
    "from sklearn.metrics import precision_recall_curve\n",
    "\n",
    "# predict probality when label = 1\n",
    "pred_proba_class1 = lr_clf.predict_proba(X_test)[:, 1]\n",
    "\n",
    "precisions, recalls, thresholds = precision_recall_curve(y_test, pred_proba_class1) # 입력인자 : 실제 클래스값, positive 값의 예측 확률\n",
    "print('Shape of thresholds : ', thresholds.shape)\n",
    "\n",
    "thr_idx = np.arange(0, thresholds.shape[0], 15)\n",
    "print('Value of thresholds : ', np.round(thresholds[thr_idx], 2))\n",
    "\n",
    "print('Precision : ', np.round(precisions[thr_idx], 3))\n",
    "print('Recall : ', np.round(recalls[thr_idx], 3))"
   ]
  },
  {
   "cell_type": "markdown",
   "metadata": {},
   "source": [
    "- precision_recall_curve 시각화"
   ]
  },
  {
   "cell_type": "code",
   "execution_count": 35,
   "metadata": {},
   "outputs": [],
   "source": [
    "import matplotlib.pyplot as plt\n",
    "import matplotlib.ticker as ticker\n",
    "import seaborn as sns\n",
    "%matplotlib inline\n",
    "\n",
    "sns.set_style('darkgrid')\n"
   ]
  },
  {
   "cell_type": "code",
   "execution_count": 40,
   "metadata": {},
   "outputs": [
    {
     "data": {
      "image/png": "[encoded data removed]",
      "text/plain": [
       "<Figure size 800x600 with 1 Axes>"
      ]
     },
     "metadata": {},
     "output_type": "display_data"
    }
   ],
   "source": [
    "def precision_recall_curve_plot(y_test, pred_proba_c1):\n",
    "    precisions, recalls, thresholds = precision_recall_curve(y_test, pred_proba_c1)\n",
    "    \n",
    "    # set threshold into X-axis and precision, recall into Y-axis\n",
    "    plt.figure(figsize=(8, 6))\n",
    "    threshold_boundary = thresholds.shape[0]\n",
    "    plt.plot(thresholds, precisions[:threshold_boundary], ls='--', label='precision')\n",
    "    plt.plot(thresholds, recalls[:threshold_boundary], ls='-', label='recall')\n",
    "    \n",
    "    plt.xlim((0.1, 0.9))\n",
    "    plt.xticks(np.round(np.arange(0.1, 0.9, 0.1), 2))\n",
    "\n",
    "    plt.xlabel('Threshold value')\n",
    "    plt.ylabel('Precision and Recall value')\n",
    "    plt.legend()\n",
    "    plt.show()\n",
    "\n",
    "precision_recall_curve_plot(y_test, lr_clf.predict_proba(X_test)[:, 1])"
   ]
  },
  {
   "cell_type": "markdown",
   "metadata": {},
   "source": [
    "- F1_score"
   ]
  },
  {
   "cell_type": "code",
   "execution_count": 41,
   "metadata": {},
   "outputs": [
    {
     "name": "stdout",
     "output_type": "stream",
     "text": [
      "F1 Score :  0.7966\n"
     ]
    }
   ],
   "source": [
    "from sklearn.metrics import f1_score\n",
    "\n",
    "f1 = f1_score(y_test, pred)\n",
    "print('F1 Score : ', round(f1, 4))"
   ]
  },
  {
   "cell_type": "code",
   "execution_count": 42,
   "metadata": {},
   "outputs": [
    {
     "name": "stdout",
     "output_type": "stream",
     "text": [
      "Custom Threshold :  0.4\n",
      "Confusion Matrix\n",
      "[[97 21]\n",
      " [11 50]]\n",
      "Accuracy :  0.8212 Precision :  0.7042 Recall :  0.8197\n",
      "F1 :  0.7576\n",
      "==================================================\n",
      "Custom Threshold :  0.45\n",
      "Confusion Matrix\n",
      "[[105  13]\n",
      " [ 13  48]]\n",
      "Accuracy :  0.8547 Precision :  0.7869 Recall :  0.7869\n",
      "F1 :  0.7869\n",
      "==================================================\n",
      "Custom Threshold :  0.5\n",
      "Confusion Matrix\n",
      "[[108  10]\n",
      " [ 14  47]]\n",
      "Accuracy :  0.8659 Precision :  0.8246 Recall :  0.7705\n",
      "F1 :  0.7966\n",
      "==================================================\n",
      "Custom Threshold :  0.55\n",
      "Confusion Matrix\n",
      "[[111   7]\n",
      " [ 16  45]]\n",
      "Accuracy :  0.8715 Precision :  0.8654 Recall :  0.7377\n",
      "F1 :  0.7965\n",
      "==================================================\n",
      "Custom Threshold :  0.6\n",
      "Confusion Matrix\n",
      "[[113   5]\n",
      " [ 17  44]]\n",
      "Accuracy :  0.8771 Precision :  0.898 Recall :  0.7213\n",
      "F1 :  0.8\n",
      "==================================================\n"
     ]
    }
   ],
   "source": [
    "def get_clf_eval(y_test, pred):\n",
    "    confusion = confusion_matrix(y_test, pred)\n",
    "    accuray = accuracy_score(y_test, pred)\n",
    "    precision = precision_score(y_test, pred)\n",
    "    recall = recall_score(y_test, pred)\n",
    "    f1 = f1_score(y_test, pred)\n",
    "    print('Confusion Matrix')\n",
    "    print(confusion)\n",
    "    print('Accuracy : ', round(accuray, 4), 'Precision : ', round(precision, 4), 'Recall : ', round(recall, 4))\n",
    "    print('F1 : ', round(f1, 4))\n",
    "\n",
    "\n",
    "threshold_list = [0.4, 0.45, 0.50, 0.55, 0.60]\n",
    "\n",
    "for custom_threshold in threshold_list:\n",
    "    print('Custom Threshold : ', custom_threshold)\n",
    "    set_threshold(y_test, pred_proba, custom_threshold)\n",
    "    print('='*50)"
   ]
  },
  {
   "cell_type": "markdown",
   "metadata": {},
   "source": [
    "- roc_curve"
   ]
  },
  {
   "cell_type": "code",
   "execution_count": 43,
   "metadata": {},
   "outputs": [],
   "source": [
    "from sklearn.metrics import roc_curve\n",
    "\n",
    "pred_proba_class1 = lr_clf.predict_proba(X_test)[:, 1]\n",
    "fprs, tprs, thresholds = roc_curve(y_test, pred_proba_class1)"
   ]
  },
  {
   "cell_type": "code",
   "execution_count": 46,
   "metadata": {},
   "outputs": [
    {
     "data": {
      "image/png": "[encoded data removed]",
      "text/plain": [
       "<Figure size 640x480 with 1 Axes>"
      ]
     },
     "metadata": {},
     "output_type": "display_data"
    },
    {
     "name": "stdout",
     "output_type": "stream",
     "text": [
      "ROC SCORE :  0.8987\n"
     ]
    }
   ],
   "source": [
    "from sklearn.metrics import roc_auc_score\n",
    "\n",
    "def roc_curve_plot(y_test, pred_proba_c1):\n",
    "    fprs, tprs, thresholds = roc_curve(y_test, pred_proba_c1)\n",
    "    roc_score = roc_auc_score(y_test, pred_proba_c1)\n",
    "    plt.plot(fprs, tprs, label='ROC')\n",
    "    plt.plot([0, 1], [0, 1], 'k-', label='Random')\n",
    "\n",
    "    plt.xlim((0, 1))\n",
    "    plt.ylabel((0, 1))\n",
    "    plt.xticks(np.round(np.arange(0.1, 1.0, 0.1), 2))\n",
    "    plt.xlabel('FPR(1 - Sensitivity)')\n",
    "    plt.ylabel('TPR(Recall)')\n",
    "    plt.legend()\n",
    "    plt.show()\n",
    "\n",
    "    print('ROC SCORE : ', round(roc_score, 4))\n",
    "\n",
    "\n",
    "\n",
    "roc_curve_plot(y_test, pred_proba_class1)"
   ]
  },
  {
   "cell_type": "code",
   "execution_count": 48,
   "metadata": {},
   "outputs": [],
   "source": [
    "# 모델 평가를 위한 함수\n",
    "\n",
    "from sklearn.metrics import confusion_matrix, accuracy_score, precision_score, recall_score, f1_score, roc_auc_score\n",
    "\n",
    "def get_clf_eval(y_test, pred, pred_proba=None):\n",
    "    confusion = confusion_matrix(y_test, pred)\n",
    "    accuray = accuracy_score(y_test, pred)\n",
    "    precision = precision_score(y_test, pred)\n",
    "    recall = recall_score(y_test, pred)\n",
    "    f1 = f1_score(y_test, pred)\n",
    "    roc_score = roc_auc_score(y_test, pred_proba)\n",
    "    print('Confusion Matrix')\n",
    "    print(confusion)\n",
    "    print('Accuracy : ', round(accuray, 4), 'Precision : ', round(precision, 4), 'Recall : ', round(recall, 4))\n",
    "    print('F1 : ', round(f1, 4))\n",
    "    print('ROC SCORE : ', round(roc_score, 4))\n"
   ]
  },
  {
   "cell_type": "code",
   "execution_count": null,
   "metadata": {},
   "outputs": [],
   "source": []
  }
 ],
 "metadata": {
  "kernelspec": {
   "display_name": "ds_study",
   "language": "python",
   "name": "python3"
  },
  "language_info": {
   "codemirror_mode": {
    "name": "ipython",
    "version": 3
   },
   "file_extension": ".py",
   "mimetype": "text/x-python",
   "name": "python",
   "nbconvert_exporter": "python",
   "pygments_lexer": "ipython3",
   "version": "3.8.18"
  }
 },
 "nbformat": 4,
 "nbformat_minor": 2
}
